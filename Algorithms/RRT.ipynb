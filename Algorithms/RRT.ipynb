{
 "cells": [
  {
   "cell_type": "markdown",
   "metadata": {},
   "source": [
    "# Reference\n",
    "https://ocw.mit.edu/courses/aeronautics-and-astronautics/16-410-principles-of-autonomy-and-decision-making-fall-2010/lecture-notes/MIT16_410F10_lec15.pdf\n",
    "http://lavalle.pl/rrt/about.html"
   ]
  },
  {
   "cell_type": "code",
   "execution_count": 1,
   "metadata": {},
   "outputs": [
    {
     "name": "stdout",
     "output_type": "stream",
     "text": [
      "pygame 1.9.4\n",
      "Hello from the pygame community. https://www.pygame.org/contribute.html\n"
     ]
    }
   ],
   "source": [
    "import random\n",
    "import math\n",
    "import pygame"
   ]
  },
  {
   "cell_type": "code",
   "execution_count": 2,
   "metadata": {},
   "outputs": [],
   "source": [
    "class Node:\n",
    "    def __init__(self, x, y):\n",
    "        self.x = x\n",
    "        self.y = y\n",
    "        self.children = []\n",
    "        self.parent = []\n",
    "        \n",
    "    def addChild(self, obj):\n",
    "        self.children.append(obj)\n",
    "        obj.parent.append(self)"
   ]
  },
  {
   "cell_type": "code",
   "execution_count": 3,
   "metadata": {},
   "outputs": [],
   "source": [
    "class RRTConstruction:\n",
    "    # tgt: tuple of top-left position, width, height\n",
    "    # mapSize: tuple of width, height\n",
    "    # wallInfo: 2D array of top-left position, width, height\n",
    "    def __init__(self, src, tgt, mapSize, wallInfo, iterNum, stepSize):\n",
    "        self.src = src\n",
    "        self.tgt = tgt\n",
    "        self.mapSize = mapSize\n",
    "        self.wallInfo = wallInfo\n",
    "        srcNode = Node(src[0], src[1])\n",
    "        self.nodes = []\n",
    "        self.nodes.append(srcNode)\n",
    "        self.iterNum = iterNum\n",
    "        self.stepSize = stepSize\n",
    "        self.pathFrom = []\n",
    "        self.pathTo = []\n",
    "          \n",
    "        pygame.init()\n",
    "        screen=pygame.display.set_mode(mapSize,0,32)\n",
    "        pygame.display.set_caption(\"RTT Demo\")\n",
    "\n",
    "    def constructTree(self):\n",
    "        for i in range(self.iterNum):\n",
    "            randomNode = self.getXRand()\n",
    "            nearestNode = self.getXNearest(randomNode)\n",
    "            newNode = self.getXNew(randomNode, nearestNode)\n",
    "            \n",
    "            if (checkObstacleFree):\n",
    "                self.nodes.append(newNode)\n",
    "                nearestNode.addChild(newNode)\n",
    "                pathFrom.append((xNearest.x, xNearest.y))\n",
    "                pathTo.append((newNode.x, newNode.y))\n",
    "            \n",
    "            if (self.isInTgt(nodes[len(nodes) - 1])):\n",
    "                return nodes[len(nodes) - 1]   \n",
    "        \n",
    "        return None\n",
    "        \n",
    "    def getXRand(self):\n",
    "        x = int(random.uniform(0, mapSize[0]))\n",
    "        y = int(random.uniform(0, mapSize[1]))\n",
    "        return Node(x,y)\n",
    "    \n",
    "    def getXNearest(self, xRand):\n",
    "        distList = [(node.x - xRand.x)**2 + (node.y-xRand.y)**2 for node in self.nodes]\n",
    "        index = distList.index(min(distList))\n",
    "        return nodes[index]\n",
    "        \n",
    "    def getXNew(self, xRand, xNearest):\n",
    "        theta = self.getAngle(xNearest, xRand)\n",
    "        newNodeX = xNearest.x + stepSize * math.cos(theta)\n",
    "        newNodeY = xNearest.y + stepSize * math.sin(theta)\n",
    "        newNode = Node(newNodeX, newNodeY)\n",
    "        return newNode\n",
    "    \n",
    "    def checkObstacleFree(self, xNearest, xNew):\n",
    "        for (x, y, w, h) in self.wallInfo:\n",
    "            if (xNew.x >= x and xNew.x <= x + w and xNew.y >= y and xNew.y <= y + h):\n",
    "                return False\n",
    "            for i in range(0,101):\n",
    "                u = i / 100\n",
    "                midX = (xNearest.x - xNew.x) * u + xNew.x\n",
    "                midY = (xNearest.y - xNew.y) * u + xNew.y\n",
    "                if (midX >= x and midX <= x + w and midY >= y and midY <= y + h):\n",
    "                    return False\n",
    "        return True\n",
    "                \n",
    "    def isInTgt(self, node):\n",
    "        (x, y, w, h) = tgt\n",
    "        if (node.x >= x and node.x <= x + w and node.y >= y and node.y <= y + h):\n",
    "                return True\n",
    "        return False\n",
    "        \n",
    "    def getAngle(self, node1, node2):\n",
    "        dx = node1.x - node2.x\n",
    "        dy = node1.y - node2.y\n",
    "        return math.atan2(dy, dx)"
   ]
  },
  {
   "cell_type": "code",
   "execution_count": 4,
   "metadata": {},
   "outputs": [],
   "source": [
    "src = (50,50)\n",
    "tgt = (600, 400, 50, 50)\n",
    "mapSize = (800, 600)\n",
    "wallInfo = [[100, 100, 100, 20],\n",
    "            [150, 200, 50, 70],\n",
    "            [400, 50, 70, 70],\n",
    "            [300, 300, 30, 100],\n",
    "            [400, 200, 10, 100],\n",
    "            [500, 200, 50, 70]]\n",
    "iterNum = 500\n",
    "stepSize = 20"
   ]
  },
  {
   "cell_type": "code",
   "execution_count": null,
   "metadata": {},
   "outputs": [],
   "source": []
  }
 ],
 "metadata": {
  "kernelspec": {
   "display_name": "Python 3",
   "language": "python",
   "name": "python3"
  },
  "language_info": {
   "codemirror_mode": {
    "name": "ipython",
    "version": 3
   },
   "file_extension": ".py",
   "mimetype": "text/x-python",
   "name": "python",
   "nbconvert_exporter": "python",
   "pygments_lexer": "ipython3",
   "version": "3.6.8"
  }
 },
 "nbformat": 4,
 "nbformat_minor": 2
}
