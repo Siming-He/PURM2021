{
  "nbformat": 4,
  "nbformat_minor": 0,
  "metadata": {
    "celltoolbar": "Tags",
    "colab": {
      "name": "manipulation_station_io.ipynb",
      "provenance": [],
      "collapsed_sections": [
        "c2xGOvKCuQkd"
      ]
    },
    "kernelspec": {
      "display_name": "Python 3",
      "language": "python",
      "name": "python3"
    },
    "language_info": {
      "codemirror_mode": {
        "name": "ipython",
        "version": 3
      },
      "file_extension": ".py",
      "mimetype": "text/x-python",
      "name": "python",
      "nbconvert_exporter": "python",
      "pygments_lexer": "ipython3",
      "version": "3.6.9"
    }
  },
  "cells": [
    {
      "cell_type": "markdown",
      "metadata": {
        "id": "EgiF12Hf1Dhs"
      },
      "source": [
        "# **Input and Output Ports of the Manipulation Station**\n"
      ]
    },
    {
      "cell_type": "markdown",
      "metadata": {
        "id": "c2xGOvKCuQkd"
      },
      "source": [
        "## Notebook Setup \n",
        "The following cell will install Drake, checkout the manipulation repository, and set up the path (only if necessary).\n",
        "- On Google's Colaboratory, this **will take approximately two minutes** on the first time it runs (to provision the machine), but should only need to reinstall once every 12 hours.  \n",
        "\n",
        "More details are available [here](http://manipulation.mit.edu/drake.html)."
      ]
    },
    {
      "cell_type": "code",
      "metadata": {
        "colab": {
          "base_uri": "https://localhost:8080/"
        },
        "id": "eeMrMI0-1Dhu",
        "outputId": "5f466d73-f02c-4def-8039-28d3677b32de"
      },
      "source": [
        "import importlib\n",
        "import sys\n",
        "from urllib.request import urlretrieve\n",
        "\n",
        "server_args = []\n",
        "if 'google.colab' in sys.modules and importlib.util.find_spec('manipulation') is None:\n",
        "    urlretrieve(f\"http://manipulation.csail.mit.edu/scripts/setup/setup_manipulation_colab.py\",\n",
        "                \"setup_manipulation_colab.py\")\n",
        "    from setup_manipulation_colab import setup_manipulation\n",
        "    setup_manipulation(manipulation_sha='c1bdae733682f8a390f848bc6cb0dbbf9ea98602', drake_version='0.25.0', drake_build='releases')\n",
        "    server_args = ['--ngrok_http_tunnel']\n",
        "    "
      ],
      "execution_count": 1,
      "outputs": [
        {
          "output_type": "stream",
          "text": [
            "Cloning into '/opt/manipulation'...\n",
            "\n",
            "HEAD is now at c1bdae7 make running_as_notebook a util, and add colab testing logic\n",
            "\n",
            "/usr/lib/python3.7/runpy.py:125: RuntimeWarning: 'notebook.nbextensions' found in sys.modules after import of package 'notebook', but prior to execution of 'notebook.nbextensions'; this may result in unpredictable behaviour\n",
            "  warn(RuntimeWarning(msg))\n",
            "Enabling notebook extension jupyter-js-widgets/extension...\n",
            "Paths used for configuration of notebook: \n",
            "    \t/usr/etc/jupyter/nbconfig/notebook.json\n",
            "      - Validating: \u001b[32mOK\u001b[0m\n",
            "Paths used for configuration of notebook: \n",
            "    \t/usr/etc/jupyter/nbconfig/notebook.json\n",
            "/sbin/ldconfig.real: /usr/local/lib/python3.7/dist-packages/ideep4py/lib/libmkldnn.so.0 is not a symbolic link\n",
            "\n",
            "Enabling notebook extension jupyter-js-widgets/extension...\n",
            "      - Validating: \u001b[32mOK\u001b[0m\n",
            "\n",
            "WARNING: The candidate selected for download or install is a yanked version: 'nbformat' candidate (version 5.1.2 at https://files.pythonhosted.org/packages/13/1d/59cbc5a6b627ba3b4c0ec5ccc82a9002e58b324e2620a4929b81f1f8d309/nbformat-5.1.2-py3-none-any.whl#sha256=3949fdc8f5fa0b1afca16fb307546e78494fa7a7bceff880df8168eafda0e7ac (from https://pypi.org/simple/nbformat/) (requires-python:>=3.5))\n",
            "Reason for being yanked: Name generation process created inappropriate id values\n",
            "ERROR: nbclient 0.5.3 has requirement jupyter-client>=6.1.5, but you'll have jupyter-client 5.3.5 which is incompatible.\n",
            "ERROR: datascience 0.10.6 has requirement folium==0.2.1, but you'll have folium 0.8.3 which is incompatible.\n",
            "\n",
            "\n",
            "WARNING: apt does not have a stable CLI interface. Use with caution in scripts.\n",
            "\n",
            "\n"
          ],
          "name": "stdout"
        }
      ]
    },
    {
      "cell_type": "code",
      "metadata": {
        "id": "P8HNbsnwSkzE"
      },
      "source": [
        "# Start a single meshcat server instance to use for the remainder of this notebook.\n",
        "from meshcat.servers.zmqserver import start_zmq_server_as_subprocess\n",
        "proc, zmq_url, web_url = start_zmq_server_as_subprocess(server_args=server_args)\n",
        "\n",
        "import numpy as np"
      ],
      "execution_count": 2,
      "outputs": []
    },
    {
      "cell_type": "markdown",
      "metadata": {
        "id": "bClJCCHTKBb5"
      },
      "source": [
        "## Access System Input/Output Values\n",
        "In this exercise, you will explore the [ManipulationStation](https://drake.mit.edu/pydrake/pydrake.examples.manipulation_station.html?highlight=manipulationstation#pydrake.examples.manipulation_station.ManipulationStation) that was mentioned during the lecture. The system diagram is shown below. \n",
        "<img src=\"https://raw.githubusercontent.com/RussTedrake/manipulation/master/figures/exercises/manipulation_station_diagram.png\" width=\"1000\">\n",
        "\n",
        "You should recall that the orange ports are the ones that do not exist for the actual hardware platform.\n"
      ]
    },
    {
      "cell_type": "markdown",
      "metadata": {
        "id": "cR5vYf8Box0L"
      },
      "source": [
        "Now we construct a ManipulationStation object and finalize the system setting. To get a sense of what this manipulation station looks like, you can open the meshcat viewer from the generated link as usual. There should be a bookshelf and a Kuka arm with a gripper attached (it might take a few seconds to load)."
      ]
    },
    {
      "cell_type": "code",
      "metadata": {
        "colab": {
          "base_uri": "https://localhost:8080/"
        },
        "id": "SN1HkYCy8VJo",
        "outputId": "9d0f5e4d-6e3e-4c2a-d325-cf219bc2ad17"
      },
      "source": [
        "from pydrake.examples.manipulation_station import ManipulationStation\n",
        "from pydrake.systems.framework import DiagramBuilder\n",
        "from pydrake.systems.meshcat_visualizer import MeshcatVisualizer\n",
        "from pydrake.systems.analysis import Simulator\n",
        "\n",
        "station = ManipulationStation()\n",
        "station.SetupManipulationClassStation()\n",
        "plant = station.get_mutable_multibody_plant()\n",
        "station.Finalize()\n",
        "\n",
        "builder = DiagramBuilder()\n",
        "builder.AddSystem(station)\n",
        "scene_graph = station.get_mutable_scene_graph()\n",
        "meshcat = MeshcatVisualizer(scene_graph,\n",
        "            zmq_url=zmq_url)\n",
        "builder.AddSystem(meshcat)\n",
        "builder.Connect(station.GetOutputPort(\"query_object\"),\n",
        "        meshcat.get_geometry_query_input_port())\n",
        "diagram = builder.Build()\n",
        "simulator = Simulator(diagram)\n",
        "simulator.Initialize()"
      ],
      "execution_count": 3,
      "outputs": [
        {
          "output_type": "stream",
          "text": [
            "Connecting to meshcat-server at zmq_url=tcp://127.0.0.1:6000...\n",
            "You can open the visualizer by visiting the following URL:\n",
            "http://99ccf201b68f.ngrok.io/static/\n",
            "Connected to meshcat-server.\n"
          ],
          "name": "stdout"
        },
        {
          "output_type": "execute_result",
          "data": {
            "text/plain": [
              "<pydrake.systems.analysis.SimulatorStatus at 0x7f181c626f30>"
            ]
          },
          "metadata": {
            "tags": []
          },
          "execution_count": 3
        }
      ]
    },
    {
      "cell_type": "markdown",
      "metadata": {
        "id": "82VsgQ938k7v"
      },
      "source": [
        "[**Context**](https://drake.mit.edu/pydrake/pydrake.systems.framework.html?highlight=context#pydrake.systems.framework.Context_) is an abstract class template that represents all the typed values that are used in a System’s computations: time, numeric-valued input ports, numerical state, and numerical parameters. There are also type-erased abstract state variables, abstract-valued input ports, abstract parameters, and a double accuracy setting. It is important to note that a **Context** is designed to be used only with the System that created it. State and Parameter data can be copied between contexts for compatible systems as necessary. One of the most common mistakes is to pass the wrong context. Although most methods in drake should throw an error if you pass a context from the wrong system, but not all of them do yet. \n",
        "\n",
        "In the cell below, we first create a root context from the diagram, and then we retrieve the contexts of the subsystems from the root context."
      ]
    },
    {
      "cell_type": "code",
      "metadata": {
        "id": "BS7uvKcIjwp0"
      },
      "source": [
        "# initialize context\n",
        "context = diagram.CreateDefaultContext()\n",
        "plant_context = plant.GetMyContextFromRoot(context)\n",
        "station_context = station.GetMyContextFromRoot(context)"
      ],
      "execution_count": 4,
      "outputs": []
    },
    {
      "cell_type": "markdown",
      "metadata": {
        "id": "_AuF4TWGlbFp"
      },
      "source": [
        "In this exercise, you will familiarize yourself with the input and output mechanism from the manipulation station system. Remember you can always generate a schematic view of your system by running the cell below. By clicking the \"+\" sign on the manipulation_station, you can get a more detailed view of the diverse modules within the manipulation station."
      ]
    },
    {
      "cell_type": "code",
      "metadata": {
        "colab": {
          "base_uri": "https://localhost:8080/",
          "height": 417
        },
        "id": "OvSvFZH4_9Ni",
        "outputId": "92d7334b-094e-4455-f145-de590be9bb39"
      },
      "source": [
        "from IPython.display import HTML\n",
        "from pydrake.systems.framework import GenerateHtml\n",
        "\n",
        "diagram.set_name(\"diagram\")\n",
        "HTML('<script src=\"https://unpkg.com/gojs/release/go.js\"></script>' + GenerateHtml(diagram))"
      ],
      "execution_count": 5,
      "outputs": [
        {
          "output_type": "execute_result",
          "data": {
            "text/html": [
              "<script src=\"https://unpkg.com/gojs/release/go.js\"></script>\n",
              "<div style='height:400px;' id='myDiagramDiv'>\n",
              "The implementation of GenerateHtml has been temporarily removed from Drake due\n",
              "to licensing restrictions.\n",
              "</div>\n",
              "<script>\n",
              "  $ = go.GraphObject.make\n",
              "  var diagram = $(go.Diagram, \"myDiagramDiv\", {\n",
              "    \"undoManager.isEnabled\": true,\n",
              "    initialAutoScale: go.Diagram.Uniform\n",
              "  });\n",
              "  diagram.layout = $(go.LayeredDigraphLayout, {\n",
              "    layerSpacing: 20,\n",
              "    columnSpacing: 20,\n",
              "    isRealtime: false\n",
              "  });\n",
              "\n",
              "  diagram.groupTemplate = $(\n",
              "    go.Group,\n",
              "    \"Auto\",\n",
              "    { layout: $(go.LayeredDigraphLayout, { direction: 0, columnSpacing: 10 }) },\n",
              "    new go.Binding(\"isSubGraphExpanded\", \"expanded\"),\n",
              "    $(\n",
              "      go.Shape,\n",
              "      \"RoundedRectangle\", // surrounds everything\n",
              "      { parameter1: 10, fill: \"rgba(128,128,128,0.33)\" }\n",
              "    ),\n",
              "    $(\n",
              "      go.Panel,\n",
              "      \"Vertical\", // position header above the subgraph\n",
              "      { defaultAlignment: go.Spot.Left },\n",
              "      $(\n",
              "        go.Panel,\n",
              "        \"Horizontal\", // the header\n",
              "        { defaultAlignment: go.Spot.Top },\n",
              "        $(\"SubGraphExpanderButton\"), // this Panel acts as a Button\n",
              "        $(\n",
              "          go.TextBlock, // group title near top, next to button\n",
              "          { font: \"Bold 12pt Sans-Serif\" },\n",
              "          new go.Binding(\"text\", \"name\")\n",
              "        )\n",
              "      ),\n",
              "      $(\n",
              "        go.Placeholder, // represents area for all member parts\n",
              "        { padding: new go.Margin(0, 10), background: \"white\" }\n",
              "      )\n",
              "    )\n",
              "  );\n",
              "  var systemTemplate = $(\n",
              "    go.Node,\n",
              "    \"Auto\",\n",
              "    $(go.Shape, \"RoundedRectangle\", {\n",
              "      parameter1: 10,\n",
              "      fill: \"rgba(128,128,228,0.33)\"\n",
              "    }),\n",
              "    $(\n",
              "      go.Panel,\n",
              "      \"Table\",\n",
              "      { margin: 10 },\n",
              "      $(\n",
              "        go.TextBlock,\n",
              "        { row: 0, column: 0, columnSpan: 2, alignment: go.Spot.Center },\n",
              "        { font: \"bold 12pt sans-serif\" },\n",
              "        new go.Binding(\"text\", \"key\")\n",
              "      ),\n",
              "      $(go.RowColumnDefinition, {\n",
              "        row: 1,\n",
              "        separatorStrokeWidth: 1.5,\n",
              "        separatorStroke: \"black\"\n",
              "      }),\n",
              "      $(go.TextBlock, {\n",
              "        // add a spacer\n",
              "        row: 1,\n",
              "        column: 0,\n",
              "        columnSpan: 2,\n",
              "        height: 10\n",
              "      }),\n",
              "      $(\n",
              "        go.Panel,\n",
              "        \"Vertical\",\n",
              "        { name: \"INPUT_PORTS\" },\n",
              "        new go.Binding(\"itemArray\", \"input_ports\"),\n",
              "        {\n",
              "          row: 2,\n",
              "          column: 0,\n",
              "          alignment: go.Spot.Left,\n",
              "          itemTemplate: $(\n",
              "            go.Panel,\n",
              "            \"Auto\",\n",
              "            { margin: 2 },\n",
              "            $(go.Shape, \"RoundedRectangle\", { fill: \"lightcyan\" }),\n",
              "            $(go.TextBlock, new go.Binding(\"text\", \"name\"), {\n",
              "              margin: 2\n",
              "            }),\n",
              "            new go.Binding(\"portId\", \"id\")\n",
              "          ) // end of itemTemplate\n",
              "        }\n",
              "      ),\n",
              "      $(\n",
              "        go.Panel,\n",
              "        \"Vertical\",\n",
              "        { name: \"OUTPUT_PORTS\" },\n",
              "        new go.Binding(\"itemArray\", \"output_ports\"),\n",
              "        {\n",
              "          row: 2,\n",
              "          column: 1,\n",
              "          alignment: go.Spot.Right,\n",
              "          itemTemplate: $(\n",
              "            go.Panel,\n",
              "            \"Auto\",\n",
              "            { margin: 2 },\n",
              "            $(go.Shape, \"RoundedRectangle\", { fill: \"lightcyan\" }),\n",
              "            $(go.TextBlock, new go.Binding(\"text\", \"name\"), {\n",
              "              margin: 2\n",
              "            }),\n",
              "            new go.Binding(\"portId\", \"id\")\n",
              "          ) // end of itemTemplate\n",
              "        }\n",
              "      )\n",
              "    )\n",
              "  );\n",
              "\n",
              "  var portTemplate = $(\n",
              "    go.Node,\n",
              "    \"Auto\",\n",
              "    $(go.Shape, \"RoundedRectangle\", {\n",
              "      parameter1: 10,\n",
              "      fill: \"honeydew\"\n",
              "    }),\n",
              "    $(\n",
              "      go.TextBlock,\n",
              "      { row: 0, column: 0, columnSpan: 2, alignment: go.Spot.Right },\n",
              "      new go.Binding(\"text\", \"name\")\n",
              "    )\n",
              "  );\n",
              "\n",
              "  var templmap = new go.Map();\n",
              "  templmap.add(\"\", systemTemplate);\n",
              "  templmap.add(\"input_port\", portTemplate);\n",
              "  templmap.add(\"output_port\", portTemplate);\n",
              "  diagram.nodeTemplateMap = templmap;\n",
              "\n",
              "  diagram.model = $(go.GraphLinksModel, {\n",
              "    linkFromPortIdProperty: \"fromPort\", // required information:\n",
              "    linkToPortIdProperty: \"toPort\", // identifies data property names\n",
              "    nodeDataArray: [\n",
              "{ key: \"diagram\", name: \"diagram\", group: \"\", isGroup: true, expanded: true, },\n",
              "{ key: \"manipulation_station\", name: \"manipulation_station\", group: \"diagram\", isGroup: true, expanded: false, },\n",
              "{ key: \"manipulation_station_inputs\", name: \"Input Ports\", group: \"manipulation_station\", isGroup: true, },\n",
              "{ key: \"manipulation_station_u0\", name: \"iiwa_position\", group: \"manipulation_station_inputs\", category: \"input_port\", },\n",
              "{ key: \"manipulation_station_u1\", name: \"iiwa_feedforward_torque\", group: \"manipulation_station_inputs\", category: \"input_port\", },\n",
              "{ key: \"manipulation_station_u2\", name: \"wsg_position\", group: \"manipulation_station_inputs\", category: \"input_port\", },\n",
              "{ key: \"manipulation_station_u3\", name: \"wsg_force_limit\", group: \"manipulation_station_inputs\", category: \"input_port\", },\n",
              "{ key: \"manipulation_station_outputs\", name: \"Output Ports\", group: \"manipulation_station\", isGroup: true, },\n",
              "{ key: \"manipulation_station_y0\", name: \"iiwa_position_commanded\", group: \"manipulation_station_outputs\", category: \"output_port\", },\n",
              "{ key: \"manipulation_station_y1\", name: \"iiwa_position_measured\", group: \"manipulation_station_outputs\", category: \"output_port\", },\n",
              "{ key: \"manipulation_station_y2\", name: \"iiwa_velocity_estimated\", group: \"manipulation_station_outputs\", category: \"output_port\", },\n",
              "{ key: \"manipulation_station_y3\", name: \"iiwa_state_estimated\", group: \"manipulation_station_outputs\", category: \"output_port\", },\n",
              "{ key: \"manipulation_station_y4\", name: \"iiwa_torque_commanded\", group: \"manipulation_station_outputs\", category: \"output_port\", },\n",
              "{ key: \"manipulation_station_y5\", name: \"iiwa_torque_measured\", group: \"manipulation_station_outputs\", category: \"output_port\", },\n",
              "{ key: \"manipulation_station_y6\", name: \"wsg_state_measured\", group: \"manipulation_station_outputs\", category: \"output_port\", },\n",
              "{ key: \"manipulation_station_y7\", name: \"wsg_force_measured\", group: \"manipulation_station_outputs\", category: \"output_port\", },\n",
              "{ key: \"manipulation_station_y8\", name: \"iiwa_torque_external\", group: \"manipulation_station_outputs\", category: \"output_port\", },\n",
              "{ key: \"manipulation_station_y9\", name: \"camera_0_rgb_image\", group: \"manipulation_station_outputs\", category: \"output_port\", },\n",
              "{ key: \"manipulation_station_y10\", name: \"camera_0_depth_image\", group: \"manipulation_station_outputs\", category: \"output_port\", },\n",
              "{ key: \"manipulation_station_y11\", name: \"camera_0_label_image\", group: \"manipulation_station_outputs\", category: \"output_port\", },\n",
              "{ key: \"manipulation_station_y12\", name: \"camera_1_rgb_image\", group: \"manipulation_station_outputs\", category: \"output_port\", },\n",
              "{ key: \"manipulation_station_y13\", name: \"camera_1_depth_image\", group: \"manipulation_station_outputs\", category: \"output_port\", },\n",
              "{ key: \"manipulation_station_y14\", name: \"camera_1_label_image\", group: \"manipulation_station_outputs\", category: \"output_port\", },\n",
              "{ key: \"manipulation_station_y15\", name: \"camera_2_rgb_image\", group: \"manipulation_station_outputs\", category: \"output_port\", },\n",
              "{ key: \"manipulation_station_y16\", name: \"camera_2_depth_image\", group: \"manipulation_station_outputs\", category: \"output_port\", },\n",
              "{ key: \"manipulation_station_y17\", name: \"camera_2_label_image\", group: \"manipulation_station_outputs\", category: \"output_port\", },\n",
              "{ key: \"manipulation_station_y18\", name: \"pose_bundle\", group: \"manipulation_station_outputs\", category: \"output_port\", },\n",
              "{ key: \"manipulation_station_y19\", name: \"query_object\", group: \"manipulation_station_outputs\", category: \"output_port\", },\n",
              "{ key: \"manipulation_station_y20\", name: \"geometry_query\", group: \"manipulation_station_outputs\", category: \"output_port\", },\n",
              "{ key: \"manipulation_station_y21\", name: \"contact_results\", group: \"manipulation_station_outputs\", category: \"output_port\", },\n",
              "{ key: \"manipulation_station_y22\", name: \"plant_continuous_state\", group: \"manipulation_station_outputs\", category: \"output_port\", },\n",
              "{ key: \"manipulation_station_y23\", name: \"geometry_poses\", group: \"manipulation_station_outputs\", category: \"output_port\", },\n",
              "{ key: \"plant\", group: \"manipulation_station\", input_ports: [ { name: \"geometry_query\", id: \"u0\" }, { name: \"WorldModelInstance_actuation\", id: \"u1\" }, { name: \"DefaultModelInstance_actuation\", id: \"u2\" }, { name: \"table_actuation\", id: \"u3\" }, { name: \"cupboard_actuation\", id: \"u4\" }, { name: \"iiwa_actuation\", id: \"u5\" }, { name: \"gripper_actuation\", id: \"u6\" }, { name: \"applied_generalized_force\", id: \"u7\" }, { name: \"applied_spatial_force\", id: \"u8\" }, ],\n",
              "output_ports: [ { name: \"geometry_pose\", id: \"y0\" }, { name: \"continuous_state\", id: \"y1\" }, { name: \"body_poses\", id: \"y2\" }, { name: \"spatial_velocities\", id: \"y3\" }, { name: \"spatial_accelerations\", id: \"y4\" }, { name: \"generalized_acceleration\", id: \"y5\" }, { name: \"WorldModelInstance_continuous_state\", id: \"y6\" }, { name: \"WorldModelInstance_generalized_acceleration\", id: \"y7\" }, { name: \"DefaultModelInstance_continuous_state\", id: \"y8\" }, { name: \"DefaultModelInstance_generalized_acceleration\", id: \"y9\" }, { name: \"table_continuous_state\", id: \"y10\" }, { name: \"table_generalized_acceleration\", id: \"y11\" }, { name: \"cupboard_continuous_state\", id: \"y12\" }, { name: \"cupboard_generalized_acceleration\", id: \"y13\" }, { name: \"iiwa_continuous_state\", id: \"y14\" }, { name: \"iiwa_generalized_acceleration\", id: \"y15\" }, { name: \"gripper_continuous_state\", id: \"y16\" }, { name: \"gripper_generalized_acceleration\", id: \"y17\" }, { name: \"WorldModelInstance_generalized_contact_forces\", id: \"y18\" }, { name: \"DefaultModelInstance_generalized_contact_forces\", id: \"y19\" }, { name: \"table_generalized_contact_forces\", id: \"y20\" }, { name: \"cupboard_generalized_contact_forces\", id: \"y21\" }, { name: \"iiwa_generalized_contact_forces\", id: \"y22\" }, { name: \"gripper_generalized_contact_forces\", id: \"y23\" }, { name: \"reaction_forces\", id: \"y24\" }, { name: \"contact_results\", id: \"y25\" }, ],\n",
              "},\n",
              "{ key: \"scene_graph\", group: \"manipulation_station\", input_ports: [ { name: \"Source_3_pose\", id: \"u0\" }, ],\n",
              "output_ports: [ { name: \"lcm_visualization\", id: \"y0\" }, { name: \"query\", id: \"y1\" }, ],\n",
              "},\n",
              "{ key: \"drake/systems/PassThrough@0000560ec5b49c80\", group: \"manipulation_station\", input_ports: [ { name: \"u\", id: \"u0\" }, ],\n",
              "output_ports: [ { name: \"y\", id: \"y0\" }, ],\n",
              "},\n",
              "{ key: \"drake/systems/Demultiplexer@0000560ec5b97300\", group: \"manipulation_station\", input_ports: [ { name: \"u0\", id: \"u0\" }, ],\n",
              "output_ports: [ { name: \"y0\", id: \"y0\" }, { name: \"y1\", id: \"y1\" }, ],\n",
              "},\n",
              "{ key: \"iiwa_controller\", name: \"iiwa_controller\", group: \"manipulation_station\", isGroup: true, expanded: false, },\n",
              "{ key: \"iiwa_controller_inputs\", name: \"Input Ports\", group: \"iiwa_controller\", isGroup: true, },\n",
              "{ key: \"iiwa_controller_u0\", name: \"estimated_state\", group: \"iiwa_controller_inputs\", category: \"input_port\", },\n",
              "{ key: \"iiwa_controller_u1\", name: \"desired_state\", group: \"iiwa_controller_inputs\", category: \"input_port\", },\n",
              "{ key: \"iiwa_controller_outputs\", name: \"Output Ports\", group: \"iiwa_controller\", isGroup: true, },\n",
              "{ key: \"iiwa_controller_y0\", name: \"force\", group: \"iiwa_controller_outputs\", category: \"output_port\", },\n",
              "{ key: \"drake/systems/controllers/InverseDynamics@0000560ec5c7c400\", group: \"iiwa_controller\", input_ports: [ { name: \"u0\", id: \"u0\" }, { name: \"u1\", id: \"u1\" }, ],\n",
              "output_ports: [ { name: \"y0\", id: \"y0\" }, ],\n",
              "},\n",
              "{ key: \"drake/systems/controllers/PidController@0000560ec5c4fa80\", group: \"iiwa_controller\", input_ports: [ { name: \"estimated_state\", id: \"u0\" }, { name: \"desired_state\", id: \"u1\" }, ],\n",
              "output_ports: [ { name: \"control\", id: \"y0\" }, ],\n",
              "},\n",
              "{ key: \"drake/systems/Adder@0000560ec5b49700\", group: \"iiwa_controller\", input_ports: [ { name: \"u0\", id: \"u0\" }, { name: \"u1\", id: \"u1\" }, ],\n",
              "output_ports: [ { name: \"sum\", id: \"y0\" }, ],\n",
              "},\n",
              "{ key: \"drake/systems/ConstantVectorSource@0000560ec5b483c0\", group: \"iiwa_controller\", input_ports: [ ],\n",
              "output_ports: [ { name: \"y0\", id: \"y0\" }, ],\n",
              "},\n",
              "{ key: \"drake/systems/Adder@0000560ec5b48680\", group: \"manipulation_station\", input_ports: [ { name: \"u0\", id: \"u0\" }, { name: \"u1\", id: \"u1\" }, ],\n",
              "output_ports: [ { name: \"sum\", id: \"y0\" }, ],\n",
              "},\n",
              "{ key: \"drake/systems/PassThrough@0000560ec5b49180\", group: \"manipulation_station\", input_ports: [ { name: \"u\", id: \"u0\" }, ],\n",
              "output_ports: [ { name: \"y\", id: \"y0\" }, ],\n",
              "},\n",
              "{ key: \"desired_state_from_position\", name: \"desired_state_from_position\", group: \"manipulation_station\", isGroup: true, expanded: false, },\n",
              "{ key: \"desired_state_from_position_inputs\", name: \"Input Ports\", group: \"desired_state_from_position\", isGroup: true, },\n",
              "{ key: \"desired_state_from_position_u0\", name: \"position\", group: \"desired_state_from_position_inputs\", category: \"input_port\", },\n",
              "{ key: \"desired_state_from_position_outputs\", name: \"Output Ports\", group: \"desired_state_from_position\", isGroup: true, },\n",
              "{ key: \"desired_state_from_position_y0\", name: \"state\", group: \"desired_state_from_position_outputs\", category: \"output_port\", },\n",
              "{ key: \"drake/systems/DiscreteDerivative@0000560ec5b47e40\", group: \"desired_state_from_position\", input_ports: [ { name: \"u\", id: \"u0\" }, ],\n",
              "output_ports: [ { name: \"dudt\", id: \"y0\" }, ],\n",
              "},\n",
              "{ key: \"drake/systems/Multiplexer@0000560ec5b48c00\", group: \"desired_state_from_position\", input_ports: [ { name: \"u0\", id: \"u0\" }, { name: \"u1\", id: \"u1\" }, ],\n",
              "output_ports: [ { name: \"y0\", id: \"y0\" }, ],\n",
              "},\n",
              "{ key: \"wsg_controller\", name: \"wsg_controller\", group: \"manipulation_station\", isGroup: true, expanded: false, },\n",
              "{ key: \"wsg_controller_inputs\", name: \"Input Ports\", group: \"wsg_controller\", isGroup: true, },\n",
              "{ key: \"wsg_controller_u0\", name: \"desired_position\", group: \"wsg_controller_inputs\", category: \"input_port\", },\n",
              "{ key: \"wsg_controller_u1\", name: \"force_limit\", group: \"wsg_controller_inputs\", category: \"input_port\", },\n",
              "{ key: \"wsg_controller_u2\", name: \"state\", group: \"wsg_controller_inputs\", category: \"input_port\", },\n",
              "{ key: \"wsg_controller_outputs\", name: \"Output Ports\", group: \"wsg_controller\", isGroup: true, },\n",
              "{ key: \"wsg_controller_y0\", name: \"generalized_force\", group: \"wsg_controller_outputs\", category: \"output_port\", },\n",
              "{ key: \"wsg_controller_y1\", name: \"grip_force\", group: \"wsg_controller_outputs\", category: \"output_port\", },\n",
              "{ key: \"wsg_controller\", group: \"wsg_controller\", input_ports: [ { name: \"desired_state\", id: \"u0\" }, { name: \"force_limit\", id: \"u1\" }, { name: \"state\", id: \"u2\" }, ],\n",
              "output_ports: [ { name: \"generalized_force\", id: \"y0\" }, { name: \"grip_force\", id: \"y1\" }, ],\n",
              "},\n",
              "{ key: \"drake/systems/StateInterpolatorWithDiscreteDerivative@0000560ec6658780\", name: \"drake/systems/StateInterpolatorWithDiscreteDerivative@0000560ec6658780\", group: \"wsg_controller\", isGroup: true, expanded: false, },\n",
              "{ key: \"drake/systems/StateInterpolatorWithDiscreteDerivative@0000560ec6658780_inputs\", name: \"Input Ports\", group: \"drake/systems/StateInterpolatorWithDiscreteDerivative@0000560ec6658780\", isGroup: true, },\n",
              "{ key: \"drake/systems/StateInterpolatorWithDiscreteDerivative@0000560ec6658780_u0\", name: \"position\", group: \"drake/systems/StateInterpolatorWithDiscreteDerivative@0000560ec6658780_inputs\", category: \"input_port\", },\n",
              "{ key: \"drake/systems/StateInterpolatorWithDiscreteDerivative@0000560ec6658780_outputs\", name: \"Output Ports\", group: \"drake/systems/StateInterpolatorWithDiscreteDerivative@0000560ec6658780\", isGroup: true, },\n",
              "{ key: \"drake/systems/StateInterpolatorWithDiscreteDerivative@0000560ec6658780_y0\", name: \"state\", group: \"drake/systems/StateInterpolatorWithDiscreteDerivative@0000560ec6658780_outputs\", category: \"output_port\", },\n",
              "{ key: \"drake/systems/DiscreteDerivative@0000560ec5b48ec0\", group: \"drake/systems/StateInterpolatorWithDiscreteDerivative@0000560ec6658780\", input_ports: [ { name: \"u\", id: \"u0\" }, ],\n",
              "output_ports: [ { name: \"dudt\", id: \"y0\" }, ],\n",
              "},\n",
              "{ key: \"drake/systems/Multiplexer@0000560ec5b48940\", group: \"drake/systems/StateInterpolatorWithDiscreteDerivative@0000560ec6658780\", input_ports: [ { name: \"u0\", id: \"u0\" }, { name: \"u1\", id: \"u1\" }, ],\n",
              "output_ports: [ { name: \"y0\", id: \"y0\" }, ],\n",
              "},\n",
              "{ key: \"drake/systems/MatrixGain@0000560ec5a65100\", group: \"manipulation_station\", input_ports: [ { name: \"u0\", id: \"u0\" }, ],\n",
              "output_ports: [ { name: \"y0\", id: \"y0\" }, ],\n",
              "},\n",
              "{ key: \"drake/systems/sensors/RgbdSensor@0000560ec5cc1700\", group: \"manipulation_station\", input_ports: [ { name: \"geometry_query\", id: \"u0\" }, ],\n",
              "output_ports: [ { name: \"color_image\", id: \"y0\" }, { name: \"depth_image_32f\", id: \"y1\" }, { name: \"depth_image_16u\", id: \"y2\" }, { name: \"label_image\", id: \"y3\" }, { name: \"X_WB\", id: \"y4\" }, ],\n",
              "},\n",
              "{ key: \"drake/systems/sensors/RgbdSensor@0000560ec5bb1700\", group: \"manipulation_station\", input_ports: [ { name: \"geometry_query\", id: \"u0\" }, ],\n",
              "output_ports: [ { name: \"color_image\", id: \"y0\" }, { name: \"depth_image_32f\", id: \"y1\" }, { name: \"depth_image_16u\", id: \"y2\" }, { name: \"label_image\", id: \"y3\" }, { name: \"X_WB\", id: \"y4\" }, ],\n",
              "},\n",
              "{ key: \"drake/systems/sensors/RgbdSensor@0000560ec5bb1180\", group: \"manipulation_station\", input_ports: [ { name: \"geometry_query\", id: \"u0\" }, ],\n",
              "output_ports: [ { name: \"color_image\", id: \"y0\" }, { name: \"depth_image_32f\", id: \"y1\" }, { name: \"depth_image_16u\", id: \"y2\" }, { name: \"label_image\", id: \"y3\" }, { name: \"X_WB\", id: \"y4\" }, ],\n",
              "},\n",
              "{ key: \"meshcat_visualizer\", group: \"diagram\", input_ports: [ { name: \"lcm_visualization\", id: \"u0\" }, { name: \"geometry_query\", id: \"u1\" }, ],\n",
              "output_ports: [ ],\n",
              "},\n",
              "\n",
              "    ],\n",
              "    linkDataArray: [\n",
              "{ from: \"manipulation_station_y19\", to: \"meshcat_visualizer\", toPort: \"u1\", },\n",
              "{ from: \"plant\", fromPort: \"y16\", to: \"drake/systems/MatrixGain@0000560ec5a65100\", toPort: \"u0\", },\n",
              "{ from: \"plant\", fromPort: \"y14\", to: \"iiwa_controller_u0\", },\n",
              "{ from: \"desired_state_from_position_y0\", to: \"iiwa_controller_u1\", },\n",
              "{ from: \"iiwa_controller_y0\", to: \"drake/systems/Adder@0000560ec5b48680\", toPort: \"u0\", },\n",
              "{ from: \"drake/systems/PassThrough@0000560ec5b49180\", fromPort: \"y0\", to: \"drake/systems/Adder@0000560ec5b48680\", toPort: \"u1\", },\n",
              "{ from: \"plant\", fromPort: \"y16\", to: \"wsg_controller_u2\", },\n",
              "{ from: \"scene_graph\", fromPort: \"y1\", to: \"plant\", toPort: \"u0\", },\n",
              "{ from: \"drake/systems/Adder@0000560ec5b48680\", fromPort: \"y0\", to: \"plant\", toPort: \"u5\", },\n",
              "{ from: \"wsg_controller_y0\", to: \"plant\", toPort: \"u6\", },\n",
              "{ from: \"plant\", fromPort: \"y14\", to: \"drake/systems/Demultiplexer@0000560ec5b97300\", toPort: \"u0\", },\n",
              "{ from: \"plant\", fromPort: \"y0\", to: \"scene_graph\", toPort: \"u0\", },\n",
              "{ from: \"scene_graph\", fromPort: \"y1\", to: \"drake/systems/sensors/RgbdSensor@0000560ec5bb1180\", toPort: \"u0\", },\n",
              "{ from: \"scene_graph\", fromPort: \"y1\", to: \"drake/systems/sensors/RgbdSensor@0000560ec5bb1700\", toPort: \"u0\", },\n",
              "{ from: \"scene_graph\", fromPort: \"y1\", to: \"drake/systems/sensors/RgbdSensor@0000560ec5cc1700\", toPort: \"u0\", },\n",
              "{ from: \"drake/systems/PassThrough@0000560ec5b49c80\", fromPort: \"y0\", to: \"desired_state_from_position_u0\", },\n",
              "{ from: \"manipulation_station_u0\", to: \"drake/systems/PassThrough@0000560ec5b49c80\", toPort: \"u0\", },\n",
              "{ from: \"manipulation_station_u1\", to: \"drake/systems/PassThrough@0000560ec5b49180\", toPort: \"u0\", },\n",
              "{ from: \"manipulation_station_u2\", to: \"wsg_controller_u0\", },\n",
              "{ from: \"manipulation_station_u3\", to: \"wsg_controller_u1\", },\n",
              "{ from: \"drake/systems/PassThrough@0000560ec5b49c80\", fromPort: \"y0\", to: \"manipulation_station_y0\", },\n",
              "{ from: \"drake/systems/Demultiplexer@0000560ec5b97300\", fromPort: \"y0\", to: \"manipulation_station_y1\", },\n",
              "{ from: \"drake/systems/Demultiplexer@0000560ec5b97300\", fromPort: \"y1\", to: \"manipulation_station_y2\", },\n",
              "{ from: \"plant\", fromPort: \"y14\", to: \"manipulation_station_y3\", },\n",
              "{ from: \"drake/systems/Adder@0000560ec5b48680\", fromPort: \"y0\", to: \"manipulation_station_y4\", },\n",
              "{ from: \"drake/systems/Adder@0000560ec5b48680\", fromPort: \"y0\", to: \"manipulation_station_y5\", },\n",
              "{ from: \"drake/systems/MatrixGain@0000560ec5a65100\", fromPort: \"y0\", to: \"manipulation_station_y6\", },\n",
              "{ from: \"wsg_controller_y1\", to: \"manipulation_station_y7\", },\n",
              "{ from: \"plant\", fromPort: \"y22\", to: \"manipulation_station_y8\", },\n",
              "{ from: \"drake/systems/sensors/RgbdSensor@0000560ec5cc1700\", fromPort: \"y0\", to: \"manipulation_station_y9\", },\n",
              "{ from: \"drake/systems/sensors/RgbdSensor@0000560ec5cc1700\", fromPort: \"y2\", to: \"manipulation_station_y10\", },\n",
              "{ from: \"drake/systems/sensors/RgbdSensor@0000560ec5cc1700\", fromPort: \"y3\", to: \"manipulation_station_y11\", },\n",
              "{ from: \"drake/systems/sensors/RgbdSensor@0000560ec5bb1700\", fromPort: \"y0\", to: \"manipulation_station_y12\", },\n",
              "{ from: \"drake/systems/sensors/RgbdSensor@0000560ec5bb1700\", fromPort: \"y2\", to: \"manipulation_station_y13\", },\n",
              "{ from: \"drake/systems/sensors/RgbdSensor@0000560ec5bb1700\", fromPort: \"y3\", to: \"manipulation_station_y14\", },\n",
              "{ from: \"drake/systems/sensors/RgbdSensor@0000560ec5bb1180\", fromPort: \"y0\", to: \"manipulation_station_y15\", },\n",
              "{ from: \"drake/systems/sensors/RgbdSensor@0000560ec5bb1180\", fromPort: \"y2\", to: \"manipulation_station_y16\", },\n",
              "{ from: \"drake/systems/sensors/RgbdSensor@0000560ec5bb1180\", fromPort: \"y3\", to: \"manipulation_station_y17\", },\n",
              "{ from: \"scene_graph\", fromPort: \"y0\", to: \"manipulation_station_y18\", },\n",
              "{ from: \"scene_graph\", fromPort: \"y1\", to: \"manipulation_station_y19\", },\n",
              "{ from: \"scene_graph\", fromPort: \"y1\", to: \"manipulation_station_y20\", },\n",
              "{ from: \"plant\", fromPort: \"y25\", to: \"manipulation_station_y21\", },\n",
              "{ from: \"plant\", fromPort: \"y1\", to: \"manipulation_station_y22\", },\n",
              "{ from: \"plant\", fromPort: \"y0\", to: \"manipulation_station_y23\", },\n",
              "{ from: \"drake/systems/controllers/PidController@0000560ec5c4fa80\", fromPort: \"y0\", to: \"drake/systems/Adder@0000560ec5b49700\", toPort: \"u0\", },\n",
              "{ from: \"drake/systems/ConstantVectorSource@0000560ec5b483c0\", fromPort: \"y0\", to: \"drake/systems/Adder@0000560ec5b49700\", toPort: \"u1\", },\n",
              "{ from: \"drake/systems/Adder@0000560ec5b49700\", fromPort: \"y0\", to: \"drake/systems/controllers/InverseDynamics@0000560ec5c7c400\", toPort: \"u1\", },\n",
              "{ from: \"iiwa_controller_u0\", to: \"drake/systems/controllers/PidController@0000560ec5c4fa80\", toPort: \"u0\", },\n",
              "{ from: \"iiwa_controller_u0\", to: \"drake/systems/controllers/InverseDynamics@0000560ec5c7c400\", toPort: \"u0\", },\n",
              "{ from: \"iiwa_controller_u1\", to: \"drake/systems/controllers/PidController@0000560ec5c4fa80\", toPort: \"u1\", },\n",
              "{ from: \"drake/systems/controllers/InverseDynamics@0000560ec5c7c400\", fromPort: \"y0\", to: \"iiwa_controller_y0\", },\n",
              "{ from: \"drake/systems/DiscreteDerivative@0000560ec5b47e40\", fromPort: \"y0\", to: \"drake/systems/Multiplexer@0000560ec5b48c00\", toPort: \"u1\", },\n",
              "{ from: \"desired_state_from_position_u0\", to: \"drake/systems/DiscreteDerivative@0000560ec5b47e40\", toPort: \"u0\", },\n",
              "{ from: \"desired_state_from_position_u0\", to: \"drake/systems/Multiplexer@0000560ec5b48c00\", toPort: \"u0\", },\n",
              "{ from: \"drake/systems/Multiplexer@0000560ec5b48c00\", fromPort: \"y0\", to: \"desired_state_from_position_y0\", },\n",
              "{ from: \"drake/systems/StateInterpolatorWithDiscreteDerivative@0000560ec6658780_y0\", to: \"wsg_controller\", toPort: \"u0\", },\n",
              "{ from: \"wsg_controller_u0\", to: \"drake/systems/StateInterpolatorWithDiscreteDerivative@0000560ec6658780_u0\", },\n",
              "{ from: \"wsg_controller_u1\", to: \"wsg_controller\", toPort: \"u1\", },\n",
              "{ from: \"wsg_controller_u2\", to: \"wsg_controller\", toPort: \"u2\", },\n",
              "{ from: \"wsg_controller\", fromPort: \"y0\", to: \"wsg_controller_y0\", },\n",
              "{ from: \"wsg_controller\", fromPort: \"y1\", to: \"wsg_controller_y1\", },\n",
              "{ from: \"drake/systems/DiscreteDerivative@0000560ec5b48ec0\", fromPort: \"y0\", to: \"drake/systems/Multiplexer@0000560ec5b48940\", toPort: \"u1\", },\n",
              "{ from: \"drake/systems/StateInterpolatorWithDiscreteDerivative@0000560ec6658780_u0\", to: \"drake/systems/Multiplexer@0000560ec5b48940\", toPort: \"u0\", },\n",
              "{ from: \"drake/systems/StateInterpolatorWithDiscreteDerivative@0000560ec6658780_u0\", to: \"drake/systems/DiscreteDerivative@0000560ec5b48ec0\", toPort: \"u0\", },\n",
              "{ from: \"drake/systems/Multiplexer@0000560ec5b48940\", fromPort: \"y0\", to: \"drake/systems/StateInterpolatorWithDiscreteDerivative@0000560ec6658780_y0\", },\n",
              "\n",
              "    ]\n",
              "  });\n",
              "</script>\n"
            ],
            "text/plain": [
              "<IPython.core.display.HTML object>"
            ]
          },
          "metadata": {
            "tags": []
          },
          "execution_count": 5
        }
      ]
    },
    {
      "cell_type": "markdown",
      "metadata": {
        "id": "FKDGlrCFqb15"
      },
      "source": [
        "Now if we set the joint position of the Kuka arm, we should expect to get the same values from the iiwa_position_measured port, which can be found from the output ports of **manipulation_station** object. Below we demonstrate how this can be done using **drake**'s syntax. You may also find it useful to review the **system** class documentation [here](https://drake.mit.edu/pydrake/pydrake.systems.framework.html?highlight=output_port#pydrake.systems.framework.System_)."
      ]
    },
    {
      "cell_type": "code",
      "metadata": {
        "colab": {
          "base_uri": "https://localhost:8080/"
        },
        "id": "PwWvrx1_cPLl",
        "outputId": "074215ec-0a93-429e-8918-fe11c313c0e3"
      },
      "source": [
        "# provide initial states\n",
        "q0 = np.array([-1.57, 0.1, 0, -1.2, 0, 1.6, 0])\n",
        "# set the joint positions of the kuka arm\n",
        "station.SetIiwaPosition(station_context, q0)\n",
        "# examine the output port\n",
        "station.GetOutputPort(\"iiwa_position_measured\").Eval(station_context)"
      ],
      "execution_count": 6,
      "outputs": [
        {
          "output_type": "execute_result",
          "data": {
            "text/plain": [
              "array([-1.57,  0.1 ,  0.  , -1.2 ,  0.  ,  1.6 ,  0.  ])"
            ]
          },
          "metadata": {
            "tags": []
          },
          "execution_count": 6
        }
      ]
    },
    {
      "cell_type": "markdown",
      "metadata": {
        "id": "8d7sH3kzrnYL"
      },
      "source": [
        "Note that the [output port](https://drake.mit.edu/pydrake/pydrake.systems.framework.html?highlight=outputport#pydrake.systems.framework.OutputPort) named \"iiwa_position_measured\" is first retrieved from the station and then evaluated using **Eval** method. This is a very common approach to read the values of a selected output port.\n",
        "\n",
        "Alternatively, you may retrieve the joint angles from the **plant**, which is a subsystem of the manipulation station."
      ]
    },
    {
      "cell_type": "code",
      "metadata": {
        "colab": {
          "base_uri": "https://localhost:8080/"
        },
        "id": "gbpZuVa_axTY",
        "outputId": "90eb498e-ca15-4dcd-e764-04ac2e77ad24"
      },
      "source": [
        "joint_angles = []\n",
        "for i in range(1, 8):\n",
        "  joint_angles.append(\n",
        "  plant.GetJointByName('iiwa_joint_{}'.format(i)).get_angle(plant_context)\n",
        "  )\n",
        "\n",
        "# alternatively, use GetPositions to obtain the generalized positions\n",
        "# from the plant context\n",
        "q_general = plant.GetPositions(plant_context, \n",
        "                               plant.GetModelInstanceByName(\"iiwa\"))\n",
        "\n",
        "print(joint_angles)\n",
        "print(q_general)"
      ],
      "execution_count": 7,
      "outputs": [
        {
          "output_type": "stream",
          "text": [
            "[-1.57, 0.1, 0.0, -1.2, 0.0, 1.6, 0.0]\n",
            "[-1.57  0.1   0.   -1.2   0.    1.6   0.  ]\n"
          ],
          "name": "stdout"
        }
      ]
    },
    {
      "cell_type": "markdown",
      "metadata": {
        "id": "Ey-t3M_Usun3"
      },
      "source": [
        "# Exercise a: Code Submission\n",
        "Now, it's your time to code! Use **GetOutputPort** and **Eval** to retrieve the joint velocities from the \"iiwa_velocity_estimated\" output port. Note that we have set the velocities for you. "
      ]
    },
    {
      "cell_type": "code",
      "metadata": {
        "id": "A34DVaMRcVKV"
      },
      "source": [
        "station.SetIiwaVelocity(station_context, np.zeros(7,))"
      ],
      "execution_count": 8,
      "outputs": []
    },
    {
      "cell_type": "markdown",
      "metadata": {
        "id": "449kizGfUuwR"
      },
      "source": [
        "Below, `get_velocity(station, station_context)` is the function you must modify to query values from \"iiwa_velocity_estimated\"."
      ]
    },
    {
      "cell_type": "code",
      "metadata": {
        "id": "RWa-mQwKRG4z"
      },
      "source": [
        "def get_velocity(station, station_context):\n",
        "  velocity_estimated = station.GetOutputPort(\"iiwa_velocity_estimated\").Eval(station_context)\n",
        "  return velocity_estimated"
      ],
      "execution_count": 12,
      "outputs": []
    },
    {
      "cell_type": "markdown",
      "metadata": {
        "id": "X8FLrTP-U3bH"
      },
      "source": [
        "You can check if you got the implementation correct by running the below autograder."
      ]
    },
    {
      "cell_type": "code",
      "metadata": {
        "colab": {
          "base_uri": "https://localhost:8080/"
        },
        "id": "fVShh5kyRG44",
        "outputId": "faa0d8e8-e476-497d-aa25-3c280c156cee"
      },
      "source": [
        "from manipulation.exercises.robot.test_manipulation_io import TestManipulationIO\n",
        "from manipulation.exercises.grader import Grader\n",
        "\n",
        "Grader.grade_output([TestManipulationIO], [locals()], 'results.json')\n",
        "Grader.print_test_results('results.json')\n"
      ],
      "execution_count": 13,
      "outputs": [
        {
          "output_type": "stream",
          "text": [
            "Total score is 5/5.\n",
            "\n",
            "Score for Test get_velocity implementation is 5/5.\n"
          ],
          "name": "stdout"
        }
      ]
    },
    {
      "cell_type": "markdown",
      "metadata": {
        "id": "6dEYh81mtmWt"
      },
      "source": [
        "\"You may also command the Kuka joint positions via the [FixValue](https://drake.mit.edu/pydrake/pydrake.systems.framework.html?highlight=fixvalue#pydrake.systems.framework.InputPort) method. It fixes the inputs to the input port with selected values. An example is given below.  "
      ]
    },
    {
      "cell_type": "code",
      "metadata": {
        "colab": {
          "base_uri": "https://localhost:8080/"
        },
        "id": "AXGR87MYdZkO",
        "outputId": "14c3d5e1-ffd9-4435-80ab-acd22c8ebf00"
      },
      "source": [
        "q_command = np.array([-1.57, 0.5, 0, -1.2, 0, 1.6, 0])\n",
        "station.GetInputPort('iiwa_position').FixValue(station_context, q_command)"
      ],
      "execution_count": 14,
      "outputs": [
        {
          "output_type": "execute_result",
          "data": {
            "text/plain": [
              "<pydrake.systems.framework.FixedInputPortValue at 0x7f17fdabac70>"
            ]
          },
          "metadata": {
            "tags": []
          },
          "execution_count": 14
        }
      ]
    },
    {
      "cell_type": "markdown",
      "metadata": {
        "id": "TTPc4ssAuL8V"
      },
      "source": [
        "Now you should confirm by **GetOutputPort** and **Eval** that the \"iiwa_position_commanded\" port returns the same value as the q_command."
      ]
    },
    {
      "cell_type": "code",
      "metadata": {
        "colab": {
          "base_uri": "https://localhost:8080/"
        },
        "id": "tPJNE_-9evwU",
        "outputId": "11c2a533-24b3-4dcb-e14d-cac0ded25540"
      },
      "source": [
        "station.GetOutputPort(\"iiwa_position_commanded\").Eval(station_context)"
      ],
      "execution_count": 15,
      "outputs": [
        {
          "output_type": "execute_result",
          "data": {
            "text/plain": [
              "array([-1.57,  0.5 ,  0.  , -1.2 ,  0.  ,  1.6 ,  0.  ])"
            ]
          },
          "metadata": {
            "tags": []
          },
          "execution_count": 15
        }
      ]
    },
    {
      "cell_type": "markdown",
      "metadata": {
        "id": "EEbQAd8SuvzQ"
      },
      "source": [
        "Please note that the *iiwa_position_commanded* and the *iiwa position* are NOT the same variable. The *iiwa_position_commanded* are the commanded positions sent to the robot, whereas the *iiwa_positions* are the current positions of the simulated robot. The input and output match perfectly in this case because of the luxury of simulation. However, the same observation can not be made from the feedforward torque (system input) and the commanded torque (system output). Next, you will investigate why. First, let us provide a zero feedforward torque to the \"iiwa_feedforward_torque\" port."
      ]
    },
    {
      "cell_type": "code",
      "metadata": {
        "colab": {
          "base_uri": "https://localhost:8080/"
        },
        "id": "gDV6v7YMlKzl",
        "outputId": "773e575f-62df-4fa5-a9fd-e8e89fd35dac"
      },
      "source": [
        "station.GetInputPort(\"iiwa_feedforward_torque\").FixValue(station_context, np.zeros(7,))\n",
        "tau_no_ff = station.GetOutputPort(\"iiwa_torque_commanded\").Eval(station_context)\n",
        "print('feedforward torque: {}'.format(np.zeros(7,)))\n",
        "print('commanded torque with no feedforward torque:{}'.format(tau_no_ff))"
      ],
      "execution_count": 16,
      "outputs": [
        {
          "output_type": "stream",
          "text": [
            "feedforward torque: [0. 0. 0. 0. 0. 0. 0.]\n",
            "commanded torque with no feedforward torque:[-13.59469518  83.99514279 -13.07262911 -34.27181406 -13.01727483\n",
            "  13.33800207   0.19496751]\n"
          ],
          "name": "stdout"
        }
      ]
    },
    {
      "cell_type": "markdown",
      "metadata": {
        "id": "WDP0uoxtvtrq"
      },
      "source": [
        "Now try the same experiment with a non-zero feedforward torque as shown below."
      ]
    },
    {
      "cell_type": "code",
      "metadata": {
        "colab": {
          "base_uri": "https://localhost:8080/"
        },
        "id": "zRxNOJKTfDbT",
        "outputId": "e834ed5f-2907-4e16-a253-cdf133a12a2c"
      },
      "source": [
        "tau_ff = np.linspace(3.1, 3.7, 7)\n",
        "print('feedforward torque: {}'.format(tau_ff))\n",
        "station.GetInputPort(\"iiwa_feedforward_torque\").FixValue(station_context, tau_ff)\n",
        "torque_commanded = station.GetOutputPort(\"iiwa_torque_commanded\").Eval(station_context)\n",
        "print('the commanded torque: {}'.format(torque_commanded))"
      ],
      "execution_count": 20,
      "outputs": [
        {
          "output_type": "stream",
          "text": [
            "feedforward torque: [3.1 3.2 3.3 3.4 3.5 3.6 3.7]\n",
            "the commanded torque: [-10.49469518  87.19514279  -9.77262911 -30.87181406  -9.51727483\n",
            "  16.93800207   3.89496751]\n"
          ],
          "name": "stdout"
        }
      ]
    },
    {
      "cell_type": "markdown",
      "metadata": {
        "id": "WKh2ETazw5-W"
      },
      "source": [
        "# Exercise b: Written Problem.\n",
        "Below, we have a question for you.\n",
        "\n",
        "**In this exercise, please explain what causes the discrepancy between the feedforward torque and the commanded torque.**\n",
        "\n",
        "HINT: can you find any relationship among *tau_ff*, *tau_no_ff*, *torque_commanded*?"
      ]
    },
    {
      "cell_type": "markdown",
      "metadata": {
        "id": "U2cjfMsITgVF"
      },
      "source": [
        "## Your Answer\n",
        "\n",
        "The initial commanded torque with no feedforward torque is a non-zero constant. Hence, comanded torque with no feedforward torque is feedforward torque plus some constant. The reason is that the robot arm itself has weight, so we need a initial torque for each joint to cover the arm's weight. Otherwise, the robot arm would \"fall down\". The initial torque that covers the arm's weight is constant because each joint needs the same torque to cover the weight."
      ]
    },
    {
      "cell_type": "markdown",
      "metadata": {
        "id": "SCvUhPHMTqiH"
      },
      "source": [
        "## How will this notebook be graded?"
      ]
    },
    {
      "cell_type": "markdown",
      "metadata": {
        "id": "l5OAsgvJTt1M"
      },
      "source": [
        "If you are enrolled in the class, this notebook will be graded using [Gradescope](www.gradescope.com). You should have gotten the enrollment code on our announcement in Piazza.\n",
        "\n",
        "For submission of this assignment, you must do wo things. \n",
        "- Download and submit this notebook `manipulation_station_io.ipynb` to Gradescope's notebook submission section, along with your notebook for the first problem.\n",
        "- Copy and Paste your answer in the qualitative problem to Gradescope's written submission section. \n",
        "\n",
        "We will evaluate the local functions in the notebook to see if the function behaves as we have expected. For this exercise, the rubric is as follows:\n",
        "- [5pts] `get_velocity` must be implemented correctly. \n",
        "- [5pts] You must answer correctly why there is a difference between feed-forward torque and commanded torque. "
      ]
    },
    {
      "cell_type": "markdown",
      "metadata": {
        "id": "w48SCV0HUbcJ"
      },
      "source": [
        "## Additional Note."
      ]
    },
    {
      "cell_type": "markdown",
      "metadata": {
        "id": "R324XG0CvLiN"
      },
      "source": [
        "So far we have not looked into the outputs of simulated camera sensors. Fortunately, accessing the camera data can be done in an almost exactly the same way as we have shown above. We will get to it soon! "
      ]
    }
  ]
}